{
 "cells": [
  {
   "cell_type": "code",
   "execution_count": 1,
   "id": "2e22803e",
   "metadata": {},
   "outputs": [
    {
     "name": "stderr",
     "output_type": "stream",
     "text": [
      "C:\\Users\\Ricardo\\anaconda3\\envs\\geometric\\lib\\site-packages\\tqdm\\auto.py:22: TqdmWarning: IProgress not found. Please update jupyter and ipywidgets. See https://ipywidgets.readthedocs.io/en/stable/user_install.html\n",
      "  from .autonotebook import tqdm as notebook_tqdm\n",
      "Skipped loading some Tensorflow models, missing a dependency. No module named 'tensorflow'\n",
      "Skipped loading modules with pytorch-lightning dependency, missing a dependency. No module named 'pytorch_lightning'\n",
      "Skipped loading some Jax models, missing a dependency. No module named 'jax'\n"
     ]
    }
   ],
   "source": [
    "import pandas as pd\n",
    "import torch\n",
    "import torch_geometric\n",
    "from torch_geometric.data import Dataset, Data\n",
    "import numpy as np \n",
    "import os\n",
    "from tqdm import tqdm\n",
    "import deepchem as dc\n",
    "from rdkit import Chem \n"
   ]
  },
  {
   "cell_type": "code",
   "execution_count": 2,
   "id": "5d614711",
   "metadata": {},
   "outputs": [
    {
     "name": "stdout",
     "output_type": "stream",
     "text": [
      "Torch version: 1.13.1+cu116\n",
      "Cuda available: True\n"
     ]
    }
   ],
   "source": [
    "print(f\"Torch version: {torch.__version__}\")\n",
    "print(f\"Cuda available: {torch.cuda.is_available()}\")"
   ]
  },
  {
   "cell_type": "markdown",
   "id": "d1764d01",
   "metadata": {},
   "source": [
    "## Split ESOL dataset "
   ]
  },
  {
   "cell_type": "code",
   "execution_count": 3,
   "id": "8bfdf867",
   "metadata": {},
   "outputs": [],
   "source": [
    "df = pd.read_csv('../data/ESOL.csv')\n"
   ]
  },
  {
   "cell_type": "code",
   "execution_count": 4,
   "id": "88536e31",
   "metadata": {},
   "outputs": [],
   "source": [
    "np.random.seed(321)                                     # set seed\n",
    "train_split_perc = 0.8                                  # 80% train and 20% test\n",
    "idx_train = np.random.rand(len(df)) < train_split_perc  \n",
    "df_train = df[idx_train]\n",
    "df_test = df[~idx_train]"
   ]
  },
  {
   "cell_type": "code",
   "execution_count": 5,
   "id": "5cdebcfc",
   "metadata": {},
   "outputs": [],
   "source": [
    "# save datasets\n",
    "df_train.to_csv('../data/raw/ESOL_train.csv', index=False)\n",
    "df_test.to_csv('../data/raw/ESOL_test.csv', index=False)"
   ]
  },
  {
   "cell_type": "code",
   "execution_count": null,
   "id": "5d914327",
   "metadata": {},
   "outputs": [],
   "source": []
  }
 ],
 "metadata": {
  "kernelspec": {
   "display_name": "Python 3 (ipykernel)",
   "language": "python",
   "name": "python3"
  },
  "language_info": {
   "codemirror_mode": {
    "name": "ipython",
    "version": 3
   },
   "file_extension": ".py",
   "mimetype": "text/x-python",
   "name": "python",
   "nbconvert_exporter": "python",
   "pygments_lexer": "ipython3",
   "version": "3.8.11"
  }
 },
 "nbformat": 4,
 "nbformat_minor": 5
}
